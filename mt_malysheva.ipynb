{
  "nbformat": 4,
  "nbformat_minor": 0,
  "metadata": {
    "colab": {
      "provenance": [],
      "authorship_tag": "ABX9TyPRq0a+8m2KWqs8KMaQApp+",
      "include_colab_link": true
    },
    "kernelspec": {
      "name": "python3",
      "display_name": "Python 3"
    },
    "language_info": {
      "name": "python"
    }
  },
  "cells": [
    {
      "cell_type": "markdown",
      "metadata": {
        "id": "view-in-github",
        "colab_type": "text"
      },
      "source": [
        "<a href=\"https://colab.research.google.com/github/lamdary/compling_hse/blob/main/mt_malysheva.ipynb\" target=\"_parent\"><img src=\"https://colab.research.google.com/assets/colab-badge.svg\" alt=\"Open In Colab\"/></a>"
      ]
    },
    {
      "cell_type": "code",
      "execution_count": null,
      "metadata": {
        "id": "LBG95UrI35Jx"
      },
      "outputs": [],
      "source": []
    },
    {
      "cell_type": "markdown",
      "source": [
        "1. Выберите пару языков, для которой вы хотели бы создать систему машинного перевода на правилах\n",
        "\n",
        "русский - английский\n",
        "\n",
        "2. Как вы будете проводите пре-процессинг? Какие библиотеки вам понадобятся для пре-процессинга\n",
        "\n",
        "- токенизация (библиотека NLTK - функция word_tokenize или SpaCy - функция tokens)\n",
        "- лемматизация (библиотека NLTK - функция WordNetLemmatizer)\n",
        "- удаление стоп-слов (список в библиотеке NLTK)\n",
        "- морфологический анализ (инструмент pymorphy2)\n",
        "\n",
        "Токенизация будет проводиться по словам, т.к. для этой языковой пары это самый оптимальный вариант. Более того, морфологический анализ позволит улучшить качество перевода.\n",
        "\n",
        "3.  Примеры правил для обучения модели машинного перевода на правилах\n",
        "\n",
        "- Если глагол стоит в прошедшем времени и имеет суффикс «-л», то при переводе на английский язык к нему добавляется вспомогательный глагол «have» и причастие прошедшего времени (past participle).\n",
        "- Все существительные переводятся в их основной форме, род при переводе с русского на английский не учитывается,  т.к. эта категория отсутствует в английском\n"
      ],
      "metadata": {
        "id": "YVbpxg0-38cN"
      }
    }
  ]
}