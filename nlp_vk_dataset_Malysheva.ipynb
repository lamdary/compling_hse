{
  "nbformat": 4,
  "nbformat_minor": 0,
  "metadata": {
    "colab": {
      "provenance": [],
      "authorship_tag": "ABX9TyO7Nx67vhqQJiWNkCTYfOaX",
      "include_colab_link": true
    },
    "kernelspec": {
      "name": "python3",
      "display_name": "Python 3"
    },
    "language_info": {
      "name": "python"
    }
  },
  "cells": [
    {
      "cell_type": "markdown",
      "metadata": {
        "id": "view-in-github",
        "colab_type": "text"
      },
      "source": [
        "<a href=\"https://colab.research.google.com/github/lamdary/compling_hse/blob/main/nlp_vk_dataset_Malysheva.ipynb\" target=\"_parent\"><img src=\"https://colab.research.google.com/assets/colab-badge.svg\" alt=\"Open In Colab\"/></a>"
      ]
    },
    {
      "cell_type": "code",
      "execution_count": null,
      "metadata": {
        "id": "BaEVM3Pt0XIL"
      },
      "outputs": [],
      "source": [
        "!pip install vk_api\n",
        "import vk_api\n",
        "\n",
        "vkApiSession= vk_api.VkApi(token=\"vk1.a.yEI_j4-TumfFCoEFMjLZ2nV2I0nneEsAb9UHOveyjZLcS4VB-OtIz0fvvx0bPRjR-nPgqJY9zsQbJCg25QJTznYIu692xmZvDOIVXc9NVami-rdoRXYndim2bwZPSD88yUC-CtJfxvEh3pCwSZgXD9MBL5Pjrwy-OlEtCbe9Q162CBKyvy8pTKaiuZqOmIT_bvxzI8NoNFnaN1YUNmf9Ng\")\n",
        "\n",
        "vk = vkApiSession.get_api()\n",
        "\n",
        "posts = vk.wall.get(owner_id=-148438786, count=100)['items']\n",
        "posts\n",
        "\n",
        "import vk_api\n",
        "import csv\n",
        "import pandas as pd\n",
        "\n",
        "scraped_data = []\n",
        "\n",
        "for post in posts:\n",
        "    post_data = {\n",
        "                'post_id': post['id'],\n",
        "                'post_image': [],\n",
        "                'post_text': post['text'],\n",
        "                'post_views': post['views']\n",
        "            }\n",
        "\n",
        "    attachments = post['attachments']\n",
        "    if len(attachments) > 0:\n",
        "        for attachment in attachments:\n",
        "            if attachment['type'] == 'photo':\n",
        "                post_data['post_image'].append(attachment['photo']['sizes'][0])\n",
        "                break\n",
        "\n",
        "\n",
        "    scraped_data.append(post_data)\n",
        "print(scraped_data)\n",
        "\n",
        "def save_to_csv(data, file_name='vk_wall_posts.csv'):\n",
        "    with open(file_name, mode='w', newline='', encoding='utf-8') as file:\n",
        "        writer = csv.DictWriter(file, fieldnames=['post_id','post_image','post_text','post_views'])\n",
        "        writer.writeheader()\n",
        "        for row in data:\n",
        "            writer.writerow(row)\n",
        "\n",
        "save_to_csv(scraped_data)"
      ]
    }
  ]
}